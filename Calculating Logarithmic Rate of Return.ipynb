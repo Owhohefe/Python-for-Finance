{
 "cells": [
  {
   "cell_type": "code",
   "execution_count": 1,
   "metadata": {},
   "outputs": [],
   "source": [
    "import numpy as np\n",
    "from pandas_datareader import data as wb\n",
    "import matplotlib.pyplot as plt"
   ]
  },
  {
   "cell_type": "code",
   "execution_count": 2,
   "metadata": {},
   "outputs": [],
   "source": [
    "PG = wb.DataReader(\"PG\", data_source = \"yahoo\", start = \"1995-1-1\")"
   ]
  },
  {
   "cell_type": "code",
   "execution_count": 3,
   "metadata": {},
   "outputs": [
    {
     "data": {
      "text/html": [
       "<div>\n",
       "<style scoped>\n",
       "    .dataframe tbody tr th:only-of-type {\n",
       "        vertical-align: middle;\n",
       "    }\n",
       "\n",
       "    .dataframe tbody tr th {\n",
       "        vertical-align: top;\n",
       "    }\n",
       "\n",
       "    .dataframe thead th {\n",
       "        text-align: right;\n",
       "    }\n",
       "</style>\n",
       "<table border=\"1\" class=\"dataframe\">\n",
       "  <thead>\n",
       "    <tr style=\"text-align: right;\">\n",
       "      <th></th>\n",
       "      <th>High</th>\n",
       "      <th>Low</th>\n",
       "      <th>Open</th>\n",
       "      <th>Close</th>\n",
       "      <th>Volume</th>\n",
       "      <th>Adj Close</th>\n",
       "    </tr>\n",
       "    <tr>\n",
       "      <th>Date</th>\n",
       "      <th></th>\n",
       "      <th></th>\n",
       "      <th></th>\n",
       "      <th></th>\n",
       "      <th></th>\n",
       "      <th></th>\n",
       "    </tr>\n",
       "  </thead>\n",
       "  <tbody>\n",
       "    <tr>\n",
       "      <th>1995-01-03</th>\n",
       "      <td>15.62500</td>\n",
       "      <td>15.43750</td>\n",
       "      <td>15.46875</td>\n",
       "      <td>15.59375</td>\n",
       "      <td>3318400.0</td>\n",
       "      <td>8.166473</td>\n",
       "    </tr>\n",
       "    <tr>\n",
       "      <th>1995-01-04</th>\n",
       "      <td>15.65625</td>\n",
       "      <td>15.31250</td>\n",
       "      <td>15.53125</td>\n",
       "      <td>15.46875</td>\n",
       "      <td>2218800.0</td>\n",
       "      <td>8.101009</td>\n",
       "    </tr>\n",
       "    <tr>\n",
       "      <th>1995-01-05</th>\n",
       "      <td>15.43750</td>\n",
       "      <td>15.21875</td>\n",
       "      <td>15.37500</td>\n",
       "      <td>15.25000</td>\n",
       "      <td>2319600.0</td>\n",
       "      <td>7.986450</td>\n",
       "    </tr>\n",
       "    <tr>\n",
       "      <th>1995-01-06</th>\n",
       "      <td>15.40625</td>\n",
       "      <td>15.15625</td>\n",
       "      <td>15.15625</td>\n",
       "      <td>15.28125</td>\n",
       "      <td>3438000.0</td>\n",
       "      <td>8.002816</td>\n",
       "    </tr>\n",
       "    <tr>\n",
       "      <th>1995-01-09</th>\n",
       "      <td>15.40625</td>\n",
       "      <td>15.18750</td>\n",
       "      <td>15.34375</td>\n",
       "      <td>15.21875</td>\n",
       "      <td>1795200.0</td>\n",
       "      <td>7.970086</td>\n",
       "    </tr>\n",
       "  </tbody>\n",
       "</table>\n",
       "</div>"
      ],
      "text/plain": [
       "                High       Low      Open     Close     Volume  Adj Close\n",
       "Date                                                                    \n",
       "1995-01-03  15.62500  15.43750  15.46875  15.59375  3318400.0   8.166473\n",
       "1995-01-04  15.65625  15.31250  15.53125  15.46875  2218800.0   8.101009\n",
       "1995-01-05  15.43750  15.21875  15.37500  15.25000  2319600.0   7.986450\n",
       "1995-01-06  15.40625  15.15625  15.15625  15.28125  3438000.0   8.002816\n",
       "1995-01-09  15.40625  15.18750  15.34375  15.21875  1795200.0   7.970086"
      ]
     },
     "execution_count": 3,
     "metadata": {},
     "output_type": "execute_result"
    }
   ],
   "source": [
    "PG.head()"
   ]
  },
  {
   "cell_type": "code",
   "execution_count": 4,
   "metadata": {},
   "outputs": [
    {
     "data": {
      "text/html": [
       "<div>\n",
       "<style scoped>\n",
       "    .dataframe tbody tr th:only-of-type {\n",
       "        vertical-align: middle;\n",
       "    }\n",
       "\n",
       "    .dataframe tbody tr th {\n",
       "        vertical-align: top;\n",
       "    }\n",
       "\n",
       "    .dataframe thead th {\n",
       "        text-align: right;\n",
       "    }\n",
       "</style>\n",
       "<table border=\"1\" class=\"dataframe\">\n",
       "  <thead>\n",
       "    <tr style=\"text-align: right;\">\n",
       "      <th></th>\n",
       "      <th>High</th>\n",
       "      <th>Low</th>\n",
       "      <th>Open</th>\n",
       "      <th>Close</th>\n",
       "      <th>Volume</th>\n",
       "      <th>Adj Close</th>\n",
       "    </tr>\n",
       "    <tr>\n",
       "      <th>Date</th>\n",
       "      <th></th>\n",
       "      <th></th>\n",
       "      <th></th>\n",
       "      <th></th>\n",
       "      <th></th>\n",
       "      <th></th>\n",
       "    </tr>\n",
       "  </thead>\n",
       "  <tbody>\n",
       "    <tr>\n",
       "      <th>2021-02-08</th>\n",
       "      <td>130.100006</td>\n",
       "      <td>128.110001</td>\n",
       "      <td>129.929993</td>\n",
       "      <td>129.169998</td>\n",
       "      <td>7011200.0</td>\n",
       "      <td>129.169998</td>\n",
       "    </tr>\n",
       "    <tr>\n",
       "      <th>2021-02-09</th>\n",
       "      <td>129.940002</td>\n",
       "      <td>128.229996</td>\n",
       "      <td>129.460007</td>\n",
       "      <td>128.669998</td>\n",
       "      <td>5917800.0</td>\n",
       "      <td>128.669998</td>\n",
       "    </tr>\n",
       "    <tr>\n",
       "      <th>2021-02-10</th>\n",
       "      <td>129.160004</td>\n",
       "      <td>127.959999</td>\n",
       "      <td>128.750000</td>\n",
       "      <td>128.220001</td>\n",
       "      <td>8594100.0</td>\n",
       "      <td>128.220001</td>\n",
       "    </tr>\n",
       "    <tr>\n",
       "      <th>2021-02-11</th>\n",
       "      <td>129.330002</td>\n",
       "      <td>128.210007</td>\n",
       "      <td>128.539993</td>\n",
       "      <td>128.330002</td>\n",
       "      <td>6139200.0</td>\n",
       "      <td>128.330002</td>\n",
       "    </tr>\n",
       "    <tr>\n",
       "      <th>2021-02-12</th>\n",
       "      <td>128.130005</td>\n",
       "      <td>126.580002</td>\n",
       "      <td>128.000000</td>\n",
       "      <td>127.620003</td>\n",
       "      <td>8406100.0</td>\n",
       "      <td>127.620003</td>\n",
       "    </tr>\n",
       "  </tbody>\n",
       "</table>\n",
       "</div>"
      ],
      "text/plain": [
       "                  High         Low        Open       Close     Volume  \\\n",
       "Date                                                                    \n",
       "2021-02-08  130.100006  128.110001  129.929993  129.169998  7011200.0   \n",
       "2021-02-09  129.940002  128.229996  129.460007  128.669998  5917800.0   \n",
       "2021-02-10  129.160004  127.959999  128.750000  128.220001  8594100.0   \n",
       "2021-02-11  129.330002  128.210007  128.539993  128.330002  6139200.0   \n",
       "2021-02-12  128.130005  126.580002  128.000000  127.620003  8406100.0   \n",
       "\n",
       "             Adj Close  \n",
       "Date                    \n",
       "2021-02-08  129.169998  \n",
       "2021-02-09  128.669998  \n",
       "2021-02-10  128.220001  \n",
       "2021-02-11  128.330002  \n",
       "2021-02-12  127.620003  "
      ]
     },
     "execution_count": 4,
     "metadata": {},
     "output_type": "execute_result"
    }
   ],
   "source": [
    "PG.tail()"
   ]
  },
  {
   "cell_type": "code",
   "execution_count": 5,
   "metadata": {},
   "outputs": [
    {
     "name": "stdout",
     "output_type": "stream",
     "text": [
      "Date\n",
      "1995-01-03         NaN\n",
      "1995-01-04   -0.008048\n",
      "1995-01-05   -0.014242\n",
      "1995-01-06    0.002047\n",
      "1995-01-09   -0.004098\n",
      "1995-01-10    0.012246\n",
      "1995-01-11   -0.002031\n",
      "1995-01-12    0.010111\n",
      "1995-01-13    0.011668\n",
      "1995-01-16    0.007968\n",
      "1995-01-17    0.003960\n",
      "1995-01-18   -0.021979\n",
      "1995-01-19   -0.004048\n",
      "1995-01-20   -0.004065\n",
      "1995-01-23    0.010132\n",
      "1995-01-24   -0.002019\n",
      "1995-01-25    0.014042\n",
      "1995-01-26    0.003977\n",
      "1995-01-27    0.027398\n",
      "1995-01-30    0.015326\n",
      "1995-01-31   -0.009550\n",
      "1995-02-01   -0.019381\n",
      "1995-02-02    0.007798\n",
      "1995-02-03    0.009662\n",
      "1995-02-06    0.022814\n",
      "1995-02-07   -0.001881\n",
      "1995-02-08   -0.011364\n",
      "1995-02-09   -0.001906\n",
      "1995-02-10   -0.001910\n",
      "1995-02-13    0.007619\n",
      "                ...   \n",
      "2020-12-31    0.009895\n",
      "2021-01-04   -0.009532\n",
      "2021-01-05    0.006365\n",
      "2021-01-06    0.010471\n",
      "2021-01-07   -0.009390\n",
      "2021-01-08   -0.000432\n",
      "2021-01-11   -0.006796\n",
      "2021-01-12   -0.005820\n",
      "2021-01-13    0.001531\n",
      "2021-01-14   -0.010694\n",
      "2021-01-15   -0.007539\n",
      "2021-01-19   -0.008793\n",
      "2021-01-20   -0.012579\n",
      "2021-01-21   -0.000984\n",
      "2021-01-22   -0.007739\n",
      "2021-01-25    0.017084\n",
      "2021-01-26    0.006407\n",
      "2021-01-27   -0.036031\n",
      "2021-01-28    0.015305\n",
      "2021-01-29   -0.016630\n",
      "2021-02-01    0.005910\n",
      "2021-02-02   -0.001397\n",
      "2021-02-03    0.001242\n",
      "2021-02-04    0.000620\n",
      "2021-02-05    0.004176\n",
      "2021-02-08   -0.003092\n",
      "2021-02-09   -0.003878\n",
      "2021-02-10   -0.003503\n",
      "2021-02-11    0.000858\n",
      "2021-02-12   -0.005548\n",
      "Name: log_Return, Length: 6576, dtype: float64\n"
     ]
    }
   ],
   "source": [
    "PG[\"log_Return\"] = np.log(PG[\"Adj Close\"]/PG[\"Adj Close\"].shift(1))\n",
    "print(PG[\"log_Return\"])"
   ]
  },
  {
   "cell_type": "code",
   "execution_count": 6,
   "metadata": {},
   "outputs": [
    {
     "data": {
      "text/plain": [
       "<matplotlib.axes._subplots.AxesSubplot at 0x15c8b10>"
      ]
     },
     "execution_count": 6,
     "metadata": {},
     "output_type": "execute_result"
    },
    {
     "data": {
      "image/png": "[encoded data removed]",
      "text/plain": [
       "<Figure size 576x360 with 1 Axes>"
      ]
     },
     "metadata": {
      "needs_background": "light"
     },
     "output_type": "display_data"
    }
   ],
   "source": [
    "PG[\"log_Return\"].plot(figsize=(8,5))"
   ]
  },
  {
   "cell_type": "code",
   "execution_count": 7,
   "metadata": {},
   "outputs": [
    {
     "data": {
      "text/plain": [
       "0.0004181018947608371"
      ]
     },
     "execution_count": 7,
     "metadata": {},
     "output_type": "execute_result"
    }
   ],
   "source": [
    "avg_returns_daily = PG[\"log_Return\"].mean()\n",
    "avg_returns_daily"
   ]
  },
  {
   "cell_type": "code",
   "execution_count": 8,
   "metadata": {},
   "outputs": [
    {
     "data": {
      "text/plain": [
       "0.10452547369020927"
      ]
     },
     "execution_count": 8,
     "metadata": {},
     "output_type": "execute_result"
    }
   ],
   "source": [
    "avg_returns_annual = (PG[\"log_Return\"].mean())*250\n",
    "avg_returns_annual"
   ]
  },
  {
   "cell_type": "code",
   "execution_count": 9,
   "metadata": {},
   "outputs": [
    {
     "name": "stdout",
     "output_type": "stream",
     "text": [
      "10.453%\n"
     ]
    }
   ],
   "source": [
    "print (str((round(avg_returns_annual,5))*100)+\"%\")"
   ]
  },
  {
   "cell_type": "code",
   "execution_count": null,
   "metadata": {},
   "outputs": [],
   "source": []
  }
 ],
 "metadata": {
  "kernelspec": {
   "display_name": "Python 3",
   "language": "python",
   "name": "python3"
  },
  "language_info": {
   "codemirror_mode": {
    "name": "ipython",
    "version": 3
   },
   "file_extension": ".py",
   "mimetype": "text/x-python",
   "name": "python",
   "nbconvert_exporter": "python",
   "pygments_lexer": "ipython3",
   "version": "3.6.5"
  }
 },
 "nbformat": 4,
 "nbformat_minor": 2
}
